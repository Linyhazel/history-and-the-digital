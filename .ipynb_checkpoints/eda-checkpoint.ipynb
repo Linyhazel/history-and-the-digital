{
 "cells": [
  {
   "cell_type": "markdown",
   "id": "652f97c1",
   "metadata": {},
   "source": [
    "# For letters"
   ]
  },
  {
   "cell_type": "code",
   "execution_count": 1,
   "id": "094c100d",
   "metadata": {},
   "outputs": [],
   "source": [
    "import pandas as pd # library for data analysis\n",
    "import re\n",
    "import shutil"
   ]
  },
  {
   "cell_type": "code",
   "execution_count": 2,
   "id": "d5779c23",
   "metadata": {},
   "outputs": [
    {
     "data": {
      "text/html": [
       "<div>\n",
       "<style scoped>\n",
       "    .dataframe tbody tr th:only-of-type {\n",
       "        vertical-align: middle;\n",
       "    }\n",
       "\n",
       "    .dataframe tbody tr th {\n",
       "        vertical-align: top;\n",
       "    }\n",
       "\n",
       "    .dataframe thead th {\n",
       "        text-align: right;\n",
       "    }\n",
       "</style>\n",
       "<table border=\"1\" class=\"dataframe\">\n",
       "  <thead>\n",
       "    <tr style=\"text-align: right;\">\n",
       "      <th></th>\n",
       "      <th>id</th>\n",
       "      <th>header</th>\n",
       "      <th>content</th>\n",
       "      <th>sketch</th>\n",
       "      <th>from</th>\n",
       "      <th>to</th>\n",
       "      <th>place</th>\n",
       "      <th>date</th>\n",
       "    </tr>\n",
       "  </thead>\n",
       "  <tbody>\n",
       "    <tr>\n",
       "      <th>0</th>\n",
       "      <td>0</td>\n",
       "      <td>To Theo van Gogh. The Hague, Sunday, 29 Septem...</td>\n",
       "      <td>The Hague, 29 September 1872. My dear Theo, Th...</td>\n",
       "      <td>False</td>\n",
       "      <td>Vincent van Gogh</td>\n",
       "      <td>Theo van Gogh</td>\n",
       "      <td>The Hague</td>\n",
       "      <td>29 September 1872.</td>\n",
       "    </tr>\n",
       "    <tr>\n",
       "      <th>1</th>\n",
       "      <td>1</td>\n",
       "      <td>To Theo van Gogh. The Hague, Friday, 13 Decemb...</td>\n",
       "      <td>The Hague, 13 December 1872. My dear Theo, Tha...</td>\n",
       "      <td>False</td>\n",
       "      <td>Vincent van Gogh</td>\n",
       "      <td>Theo van Gogh</td>\n",
       "      <td>The Hague</td>\n",
       "      <td>13 December 1872.</td>\n",
       "    </tr>\n",
       "    <tr>\n",
       "      <th>2</th>\n",
       "      <td>2</td>\n",
       "      <td>To Theo van Gogh. The Hague, mid-January 1873.</td>\n",
       "      <td>The Hague, January 1873 My dear Theo, I heard ...</td>\n",
       "      <td>False</td>\n",
       "      <td>Vincent van Gogh</td>\n",
       "      <td>Theo van Gogh</td>\n",
       "      <td>The Hague</td>\n",
       "      <td>mid-January 1873.</td>\n",
       "    </tr>\n",
       "    <tr>\n",
       "      <th>3</th>\n",
       "      <td>3</td>\n",
       "      <td>To Theo van Gogh. The Hague, Tuesday, 28 Janua...</td>\n",
       "      <td>The Hague, 28 Jan. 1873 My dear Theo, It’s goo...</td>\n",
       "      <td>False</td>\n",
       "      <td>Vincent van Gogh</td>\n",
       "      <td>Theo van Gogh</td>\n",
       "      <td>The Hague</td>\n",
       "      <td>28 January 1873.</td>\n",
       "    </tr>\n",
       "    <tr>\n",
       "      <th>4</th>\n",
       "      <td>4</td>\n",
       "      <td>To Theo van Gogh. The Hague, Monday, 17 March ...</td>\n",
       "      <td>The Hague, 17 March 1873 My dear Theo, It’s ti...</td>\n",
       "      <td>False</td>\n",
       "      <td>Vincent van Gogh</td>\n",
       "      <td>Theo van Gogh</td>\n",
       "      <td>The Hague</td>\n",
       "      <td>17 March 1873.</td>\n",
       "    </tr>\n",
       "  </tbody>\n",
       "</table>\n",
       "</div>"
      ],
      "text/plain": [
       "   id                                             header  \\\n",
       "0   0  To Theo van Gogh. The Hague, Sunday, 29 Septem...   \n",
       "1   1  To Theo van Gogh. The Hague, Friday, 13 Decemb...   \n",
       "2   2     To Theo van Gogh. The Hague, mid-January 1873.   \n",
       "3   3  To Theo van Gogh. The Hague, Tuesday, 28 Janua...   \n",
       "4   4  To Theo van Gogh. The Hague, Monday, 17 March ...   \n",
       "\n",
       "                                             content  sketch  \\\n",
       "0  The Hague, 29 September 1872. My dear Theo, Th...   False   \n",
       "1  The Hague, 13 December 1872. My dear Theo, Tha...   False   \n",
       "2  The Hague, January 1873 My dear Theo, I heard ...   False   \n",
       "3  The Hague, 28 Jan. 1873 My dear Theo, It’s goo...   False   \n",
       "4  The Hague, 17 March 1873 My dear Theo, It’s ti...   False   \n",
       "\n",
       "               from             to      place                date  \n",
       "0  Vincent van Gogh  Theo van Gogh  The Hague  29 September 1872.  \n",
       "1  Vincent van Gogh  Theo van Gogh  The Hague   13 December 1872.  \n",
       "2  Vincent van Gogh  Theo van Gogh  The Hague   mid-January 1873.  \n",
       "3  Vincent van Gogh  Theo van Gogh  The Hague    28 January 1873.  \n",
       "4  Vincent van Gogh  Theo van Gogh  The Hague      17 March 1873.  "
      ]
     },
     "execution_count": 2,
     "metadata": {},
     "output_type": "execute_result"
    }
   ],
   "source": [
    "letters = pd.read_csv(\"letter_raw.csv\")\n",
    "letters.head()"
   ]
  },
  {
   "cell_type": "code",
   "execution_count": 10,
   "id": "d5cb21f8",
   "metadata": {},
   "outputs": [],
   "source": [
    "year = []\n",
    "for i, row in letters.iterrows():\n",
    "    year.append(row['date'][:-1][-4:])\n",
    "letters['year'] = year"
   ]
  },
  {
   "cell_type": "code",
   "execution_count": 12,
   "id": "ea699164",
   "metadata": {},
   "outputs": [
    {
     "data": {
      "text/plain": [
       "year\n",
       " 188      2\n",
       "1872      2\n",
       "1873     14\n",
       "1874     12\n",
       "1875     36\n",
       "1876     36\n",
       "1877     38\n",
       "1878     11\n",
       "1879      5\n",
       "1880      6\n",
       "1881     34\n",
       "1882    101\n",
       "1883    122\n",
       "1884     59\n",
       "1885     72\n",
       "1886     20\n",
       "1887      6\n",
       "1888    151\n",
       "1889    103\n",
       "1890     69\n",
       "iage      1\n",
       "irth      1\n",
       "ment      1\n",
       "dtype: int64"
      ]
     },
     "execution_count": 12,
     "metadata": {},
     "output_type": "execute_result"
    }
   ],
   "source": [
    "letters.groupby(['year']).size()"
   ]
  },
  {
   "cell_type": "code",
   "execution_count": 9,
   "id": "ed718643",
   "metadata": {},
   "outputs": [
    {
     "data": {
      "text/plain": [
       "to\n",
       "Albert Aurier                                                                                  1\n",
       "Anna van Gogh-Carbentus                                                                        8\n",
       "Anna van Gogh-Carbentus and Theo van Gogh                                                      1\n",
       "Anna van Gogh-Carbentus and Willemien van Gogh                                                 3\n",
       "Anthon van Rappard                                                                            58\n",
       "Antoine Philippe Furnée                                                                        1\n",
       "Anton Kerssemakers                                                                             5\n",
       "Arnold Koning                                                                                  2\n",
       "Betsy Tersteeg                                                                                 1\n",
       "Caroline and Willem van Stockum-Haanebeek                                                      1\n",
       "Caroline van Stockum-Haanebeek                                                                 2\n",
       "Charles Angrand                                                                                1\n",
       "Cornelis Marinus van Gogh                                                                      2\n",
       "Egbert Borchers                                                                                1\n",
       "Emile Bernard                                                                                 22\n",
       "Eugène Boch                                                                                    1\n",
       "Hendrik Jan Furnée                                                                             1\n",
       "Hermanus Gijsbertus Tersteeg                                                                   1\n",
       "Horace Mann Livens, Paris, September or October 1886.                                          1\n",
       "Jo van Gogh-Bonger                                                                             1\n",
       "Johannes van Hombergh, Mayor of Nuenen                                                         1\n",
       "John Peter Russell                                                                             3\n",
       "Joseph Ginoux                                                                                  2\n",
       "Joseph Ginoux and Marie Ginoux-Julien                                                          1\n",
       "Joseph and Marie Ginoux                                                                        1\n",
       "Michiel Antoine de Zwart                                                                       3\n",
       "Michiel Antonie de Zwart                                                                       1\n",
       "Octave Maus                                                                                    1\n",
       "Paul Gauguin                                                                                   4\n",
       "Paul Signac                                                                                    1\n",
       "Theo van Gogh                                                                                633\n",
       "Theo van Gogh and Jo van Gogh-Bonger                                                           8\n",
       "Theo van Gogh, Antwerp, Monday, 14 December 1885.                                              1\n",
       "Theo van Gogh, Antwerp, on or about Thursday, 28 January 1886.                                 1\n",
       "Theo van Gogh, The Hague, Monday, 23 July 1883.                                                1\n",
       "Theo van Gogh, The Hague, Sunday, 22 July 1883.                                                2\n",
       "Theo van Gogh, The Hague, Sunday, 29 and Monday, 30 July 1883.                                 1\n",
       "Theo van Gogh, The Hague, between about Monday, 6 and on or about Thursday, 9 March 1882.      1\n",
       "Theo van Gogh, The Hague, on or about Friday, 13 July 1883.                                    1\n",
       "Theo van Gogh, The Hague, on or about Friday, 27 July 1883.                                    1\n",
       "Theo van Gogh, The Hague, on or about Saturday, 7 July 1883.                                   1\n",
       "Theo van Gogh, The Hague, on or about Thursday, 6 April 1882.                                  1\n",
       "Theo van Gogh, The Hague, on or about Tuesday, 24 July 1883.                                   1\n",
       "Theo van Gogh, The Hague, on or about Wednesday, 11 July 1883.                                 1\n",
       "Theo van Gogh, The Hague, on or about Wednesday, 25 July 1883.                                 1\n",
       "Theo van Gogh, c/o 19 boulevard Montmartre, Paris                                              1\n",
       "Theo van Gogh, c/o Messrs Goupil, 19 boulevard Montmartre, Paris                               1\n",
       "Theo van Gogh, c/o Messrs Goupil, rue Chaptal, Paris                                           1\n",
       "Theodorus van Gogh and Anna van Gogh-Carbentus                                                 5\n",
       "Vincent and Theo van Gogh                                                                      1\n",
       "Vincent van Gogh                                                                              81\n",
       "Vincent van Gogh, Amsterdam/Breda/Paris, Thursday, 18 April 1889                               1\n",
       "Willem and Caroline van Stockum-Haanebeek                                                      3\n",
       "Willemien van Gogh                                                                            21\n",
       "dtype: int64"
      ]
     },
     "execution_count": 9,
     "metadata": {},
     "output_type": "execute_result"
    }
   ],
   "source": [
    "letters.groupby(['to']).size()"
   ]
  },
  {
   "cell_type": "code",
   "execution_count": null,
   "id": "cbca69de",
   "metadata": {},
   "outputs": [],
   "source": []
  },
  {
   "cell_type": "code",
   "execution_count": null,
   "id": "bdce0008",
   "metadata": {},
   "outputs": [],
   "source": []
  },
  {
   "cell_type": "code",
   "execution_count": 3,
   "id": "0f028f08",
   "metadata": {},
   "outputs": [
    {
     "data": {
      "text/html": [
       "<div>\n",
       "<style scoped>\n",
       "    .dataframe tbody tr th:only-of-type {\n",
       "        vertical-align: middle;\n",
       "    }\n",
       "\n",
       "    .dataframe tbody tr th {\n",
       "        vertical-align: top;\n",
       "    }\n",
       "\n",
       "    .dataframe thead th {\n",
       "        text-align: right;\n",
       "    }\n",
       "</style>\n",
       "<table border=\"1\" class=\"dataframe\">\n",
       "  <thead>\n",
       "    <tr style=\"text-align: right;\">\n",
       "      <th></th>\n",
       "      <th>Unnamed: 0</th>\n",
       "      <th>name</th>\n",
       "      <th>year</th>\n",
       "      <th>place</th>\n",
       "      <th>style</th>\n",
       "      <th>genre</th>\n",
       "      <th>painting_url</th>\n",
       "    </tr>\n",
       "  </thead>\n",
       "  <tbody>\n",
       "    <tr>\n",
       "      <th>0</th>\n",
       "      <td>0</td>\n",
       "      <td>Still Life with Beer Mug and Fruit</td>\n",
       "      <td>1881</td>\n",
       "      <td>Netherlands</td>\n",
       "      <td>\\nRealism\\n</td>\n",
       "      <td>\\nstill life\\n</td>\n",
       "      <td>https://uploads0.wikiart.org/images/vincent-va...</td>\n",
       "    </tr>\n",
       "    <tr>\n",
       "      <th>1</th>\n",
       "      <td>1</td>\n",
       "      <td>Still Life with Cabbage and Clogs</td>\n",
       "      <td>1881</td>\n",
       "      <td>Haag / Den Haag / La Haye / The Hague, Netherl...</td>\n",
       "      <td>\\nRealism\\n</td>\n",
       "      <td>\\nstill life\\n</td>\n",
       "      <td>https://uploads8.wikiart.org/images/vincent-va...</td>\n",
       "    </tr>\n",
       "    <tr>\n",
       "      <th>2</th>\n",
       "      <td>2</td>\n",
       "      <td>Windmils at Dordrecht</td>\n",
       "      <td>1881</td>\n",
       "      <td>Netherlands</td>\n",
       "      <td>\\nRealism\\n</td>\n",
       "      <td>\\nlandscape\\n</td>\n",
       "      <td>https://uploads5.wikiart.org/images/vincent-va...</td>\n",
       "    </tr>\n",
       "    <tr>\n",
       "      <th>3</th>\n",
       "      <td>3</td>\n",
       "      <td>Beach at Scheveningen in Calm Weather</td>\n",
       "      <td>1882</td>\n",
       "      <td>Haag / Den Haag / La Haye / The Hague, Netherl...</td>\n",
       "      <td>\\nRealism\\n</td>\n",
       "      <td>\\nlandscape\\n</td>\n",
       "      <td>https://uploads6.wikiart.org/images/vincent-va...</td>\n",
       "    </tr>\n",
       "    <tr>\n",
       "      <th>4</th>\n",
       "      <td>4</td>\n",
       "      <td>Cluster of Old Houses with the New Church in T...</td>\n",
       "      <td>1882</td>\n",
       "      <td>Haag / Den Haag / La Haye / The Hague, Netherl...</td>\n",
       "      <td>\\nRealism\\n</td>\n",
       "      <td>\\ncityscape\\n</td>\n",
       "      <td>https://uploads5.wikiart.org/images/vincent-va...</td>\n",
       "    </tr>\n",
       "  </tbody>\n",
       "</table>\n",
       "</div>"
      ],
      "text/plain": [
       "   Unnamed: 0                                               name  year  \\\n",
       "0           0                 Still Life with Beer Mug and Fruit  1881   \n",
       "1           1                  Still Life with Cabbage and Clogs  1881   \n",
       "2           2                              Windmils at Dordrecht  1881   \n",
       "3           3              Beach at Scheveningen in Calm Weather  1882   \n",
       "4           4  Cluster of Old Houses with the New Church in T...  1882   \n",
       "\n",
       "                                               place        style  \\\n",
       "0                                        Netherlands  \\nRealism\\n   \n",
       "1  Haag / Den Haag / La Haye / The Hague, Netherl...  \\nRealism\\n   \n",
       "2                                        Netherlands  \\nRealism\\n   \n",
       "3  Haag / Den Haag / La Haye / The Hague, Netherl...  \\nRealism\\n   \n",
       "4  Haag / Den Haag / La Haye / The Hague, Netherl...  \\nRealism\\n   \n",
       "\n",
       "            genre                                       painting_url  \n",
       "0  \\nstill life\\n  https://uploads0.wikiart.org/images/vincent-va...  \n",
       "1  \\nstill life\\n  https://uploads8.wikiart.org/images/vincent-va...  \n",
       "2   \\nlandscape\\n  https://uploads5.wikiart.org/images/vincent-va...  \n",
       "3   \\nlandscape\\n  https://uploads6.wikiart.org/images/vincent-va...  \n",
       "4   \\ncityscape\\n  https://uploads5.wikiart.org/images/vincent-va...  "
      ]
     },
     "execution_count": 3,
     "metadata": {},
     "output_type": "execute_result"
    }
   ],
   "source": [
    "paintings = pd.read_csv(\"paintings.csv\")\n",
    "paintings.head()"
   ]
  },
  {
   "cell_type": "code",
   "execution_count": 4,
   "id": "e08f3f01",
   "metadata": {},
   "outputs": [
    {
     "data": {
      "text/plain": [
       "year\n",
       "1881      3\n",
       "1882     15\n",
       "1883      8\n",
       "1884     31\n",
       "1885     90\n",
       "1886     82\n",
       "1887    122\n",
       "1888    160\n",
       "1889    136\n",
       "1890    110\n",
       "dtype: int64"
      ]
     },
     "execution_count": 4,
     "metadata": {},
     "output_type": "execute_result"
    }
   ],
   "source": [
    "paintings.groupby(['year']).size()"
   ]
  },
  {
   "cell_type": "code",
   "execution_count": 5,
   "id": "ef299516",
   "metadata": {},
   "outputs": [
    {
     "data": {
      "text/plain": [
       "style\n",
       "\\nCloisonnism\\n                                10\n",
       "\\nImpressionism\\n                               1\n",
       "\\nJaponism\\n                                    9\n",
       "\\nJaponism,\\nPost-Impressionism\\n               1\n",
       "\\nNeo-Impressionism\\n                          29\n",
       "\\nNeo-Impressionism,\\nPointillism\\n             3\n",
       "\\nPost-Impressionism\\n                        488\n",
       "\\nPost-Impressionism,\\nNeo-Impressionism\\n     48\n",
       "\\nRealism\\n                                   168\n",
       "dtype: int64"
      ]
     },
     "execution_count": 5,
     "metadata": {},
     "output_type": "execute_result"
    }
   ],
   "source": [
    "paintings.groupby(['style']).size()"
   ]
  },
  {
   "cell_type": "code",
   "execution_count": 6,
   "id": "4a181a02",
   "metadata": {},
   "outputs": [
    {
     "data": {
      "text/plain": [
       "genre\n",
       "\\nanimal painting\\n        12\n",
       "\\ncityscape\\n              65\n",
       "\\ncloudscape\\n              1\n",
       "\\nfigurative\\n              1\n",
       "\\nflower painting\\n        67\n",
       "\\ngenre painting\\n         84\n",
       "\\ninterior\\n               10\n",
       "\\nlandscape\\n             267\n",
       "\\nmarina\\n                  3\n",
       "\\nnude painting (nu)\\n      1\n",
       "\\npanorama\\n                3\n",
       "\\nportrait\\n              108\n",
       "\\nreligious painting\\n      4\n",
       "\\nself-portrait\\n          38\n",
       "\\nsketch and study\\n        4\n",
       "\\nstill life\\n             85\n",
       "\\nvanitas\\n                 4\n",
       "dtype: int64"
      ]
     },
     "execution_count": 6,
     "metadata": {},
     "output_type": "execute_result"
    }
   ],
   "source": [
    "paintings.groupby(['genre']).size()"
   ]
  },
  {
   "cell_type": "code",
   "execution_count": 7,
   "id": "a2fc70cd",
   "metadata": {},
   "outputs": [
    {
     "data": {
      "text/plain": [
       "year  style                                     \n",
       "1881  \\nRealism\\n                                     3\n",
       "1882  \\nPost-Impressionism\\n                          1\n",
       "      \\nRealism\\n                                    14\n",
       "1883  \\nRealism\\n                                     8\n",
       "1884  \\nRealism\\n                                    31\n",
       "1885  \\nPost-Impressionism\\n                          1\n",
       "      \\nRealism\\n                                    89\n",
       "1886  \\nPost-Impressionism\\n                         60\n",
       "      \\nRealism\\n                                    22\n",
       "1887  \\nJaponism\\n                                    1\n",
       "      \\nNeo-Impressionism\\n                          29\n",
       "      \\nNeo-Impressionism,\\nPointillism\\n             3\n",
       "      \\nPost-Impressionism\\n                         40\n",
       "      \\nPost-Impressionism,\\nNeo-Impressionism\\n     48\n",
       "      \\nRealism\\n                                     1\n",
       "1888  \\nCloisonnism\\n                                 4\n",
       "      \\nJaponism\\n                                    7\n",
       "      \\nJaponism,\\nPost-Impressionism\\n               1\n",
       "      \\nPost-Impressionism\\n                        148\n",
       "1889  \\nCloisonnism\\n                                 3\n",
       "      \\nImpressionism\\n                               1\n",
       "      \\nPost-Impressionism\\n                        132\n",
       "1890  \\nCloisonnism\\n                                 3\n",
       "      \\nJaponism\\n                                    1\n",
       "      \\nPost-Impressionism\\n                        106\n",
       "dtype: int64"
      ]
     },
     "execution_count": 7,
     "metadata": {},
     "output_type": "execute_result"
    }
   ],
   "source": [
    "paintings.groupby(['year','style']).size()"
   ]
  },
  {
   "cell_type": "code",
   "execution_count": null,
   "id": "29c7d339",
   "metadata": {},
   "outputs": [],
   "source": []
  },
  {
   "cell_type": "code",
   "execution_count": null,
   "id": "b62c5b33",
   "metadata": {},
   "outputs": [],
   "source": []
  },
  {
   "cell_type": "markdown",
   "id": "66c2e208",
   "metadata": {},
   "source": [
    "# Who Van Gogh mentioned"
   ]
  },
  {
   "cell_type": "code",
   "execution_count": null,
   "id": "b3be77e0",
   "metadata": {},
   "outputs": [],
   "source": []
  }
 ],
 "metadata": {
  "kernelspec": {
   "display_name": "Python 3 (ipykernel)",
   "language": "python",
   "name": "python3"
  },
  "language_info": {
   "codemirror_mode": {
    "name": "ipython",
    "version": 3
   },
   "file_extension": ".py",
   "mimetype": "text/x-python",
   "name": "python",
   "nbconvert_exporter": "python",
   "pygments_lexer": "ipython3",
   "version": "3.9.7"
  }
 },
 "nbformat": 4,
 "nbformat_minor": 5
}
