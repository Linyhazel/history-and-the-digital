{
 "cells": [
  {
   "cell_type": "markdown",
   "id": "652f97c1",
   "metadata": {},
   "source": [
    "# For letters"
   ]
  },
  {
   "cell_type": "code",
   "execution_count": 1,
   "id": "094c100d",
   "metadata": {},
   "outputs": [],
   "source": [
    "import pandas as pd # library for data analysis\n",
    "import requests # library to handle requests\n",
    "from bs4 import BeautifulSoup # library to parse HTML documents\n",
    "import re\n",
    "import shutil"
   ]
  },
  {
   "cell_type": "code",
   "execution_count": 15,
   "id": "17d7161f",
   "metadata": {},
   "outputs": [],
   "source": [
    "ids = [] # id on web is id+1\n",
    "headers = []\n",
    "contents = []\n",
    "sketches = []\n",
    "\n",
    "#current_id = 1\n",
    "for i in range(1, 903):\n",
    "    try:\n",
    "        ids.append(i)\n",
    "    \n",
    "        letter_url = \"https://vangoghletters.org/vg/letters/let\" + str(i).zfill(3) + \"/letter.html\"\n",
    "        response = requests.get(letter_url)\n",
    "        soup = BeautifulSoup(response.text, 'html.parser')\n",
    "    \n",
    "        if_sketch = False\n",
    "        if soup.find_all('i', text = 'sketch'):\n",
    "            if_sketch = True\n",
    "        sketches.append(if_sketch)\n",
    "        \n",
    "    # remove markup that is not refering to a person\n",
    "        r1 = soup.find_all(\"span\", {\"class\": re.compile(\"^pers\")})\n",
    "        r2 = soup.find_all(\"span\")\n",
    "        \n",
    "        for m in r2:\n",
    "            if m not in r1:\n",
    "                m.extract()\n",
    "\n",
    "        this_header = soup.find('div',{'id':\"header\"}).find('h2').text\n",
    "        headers.append(this_header)\n",
    "    \n",
    "        this_text = ''\n",
    "        for paragraph in soup.find('div',{'id':\"tab-container-1\"}).find_all('div',{'class':'p'}):\n",
    "            this_text += paragraph.text\n",
    "            this_text += ' '\n",
    "        \n",
    "    # clean text\n",
    "        this_text = re.sub(r'\\[.*?\\]+', '', this_text)\n",
    "        this_text = this_text.replace('\\n', '')\n",
    "        contents.append(this_text)\n",
    "    \n",
    "    except:\n",
    "        print(i)\n"
   ]
  },
  {
   "cell_type": "code",
   "execution_count": 14,
   "id": "1adda374",
   "metadata": {},
   "outputs": [
    {
     "name": "stdout",
     "output_type": "stream",
     "text": [
      "there\n",
      "Hello there my friend! \n"
     ]
    }
   ],
   "source": [
    "# testing\n",
    "value = '<div><p>Hello <span class = \"pers\"><a>there<a></span> my friend!<span><a>233</a></span></p></div>'\n",
    "soup = BeautifulSoup(value)\n",
    "\n",
    "r1 = soup.find_all(\"span\", {\"class\": re.compile(\"^pers\")})\n",
    "r2 = soup.find_all(\"span\")\n",
    "\n",
    "for item in r2:\n",
    "    if item not in r1:\n",
    "        item.extract()\n",
    "        \n",
    "for s in soup.select('span'):\n",
    "    # only remove the markup that is not refering to a person \n",
    "    # soup.find_all('div',{'class':re.compile(\"^span3\")})\n",
    "    print(s.text)\n",
    "    \n",
    "this_text = ''\n",
    "for paragraph in soup.find('div').find_all('p'):\n",
    "    this_text += paragraph.text\n",
    "    this_text += ' '\n",
    "print(this_text)"
   ]
  },
  {
   "cell_type": "code",
   "execution_count": 16,
   "id": "560da9dc",
   "metadata": {},
   "outputs": [],
   "source": [
    "letter_d = {'id': ids, 'header': headers, 'content':contents, 'sketch':sketches}\n",
    "letter_raw = pd.DataFrame(data=letter_d)\n",
    "letter_raw.to_csv('letter_raw.csv',index=False)"
   ]
  },
  {
   "cell_type": "code",
   "execution_count": 17,
   "id": "15629600",
   "metadata": {},
   "outputs": [
    {
     "data": {
      "text/html": [
       "<div>\n",
       "<style scoped>\n",
       "    .dataframe tbody tr th:only-of-type {\n",
       "        vertical-align: middle;\n",
       "    }\n",
       "\n",
       "    .dataframe tbody tr th {\n",
       "        vertical-align: top;\n",
       "    }\n",
       "\n",
       "    .dataframe thead th {\n",
       "        text-align: right;\n",
       "    }\n",
       "</style>\n",
       "<table border=\"1\" class=\"dataframe\">\n",
       "  <thead>\n",
       "    <tr style=\"text-align: right;\">\n",
       "      <th></th>\n",
       "      <th>id</th>\n",
       "      <th>header</th>\n",
       "      <th>content</th>\n",
       "      <th>sketch</th>\n",
       "    </tr>\n",
       "  </thead>\n",
       "  <tbody>\n",
       "    <tr>\n",
       "      <th>0</th>\n",
       "      <td>1</td>\n",
       "      <td>To Theo van Gogh. The Hague, Sunday, 29 Septem...</td>\n",
       "      <td>The Hague, 29 September 1872. My dear Theo, Th...</td>\n",
       "      <td>False</td>\n",
       "    </tr>\n",
       "    <tr>\n",
       "      <th>1</th>\n",
       "      <td>2</td>\n",
       "      <td>To Theo van Gogh. The Hague, Friday, 13 Decemb...</td>\n",
       "      <td>The Hague, 13 December 1872. My dear Theo, Tha...</td>\n",
       "      <td>False</td>\n",
       "    </tr>\n",
       "    <tr>\n",
       "      <th>2</th>\n",
       "      <td>3</td>\n",
       "      <td>To Theo van Gogh. The Hague, mid-January 1873.</td>\n",
       "      <td>The Hague, January 1873 My dear Theo, I heard ...</td>\n",
       "      <td>False</td>\n",
       "    </tr>\n",
       "    <tr>\n",
       "      <th>3</th>\n",
       "      <td>4</td>\n",
       "      <td>To Theo van Gogh. The Hague, Tuesday, 28 Janua...</td>\n",
       "      <td>The Hague, 28 Jan. 1873 My dear Theo, It’s goo...</td>\n",
       "      <td>False</td>\n",
       "    </tr>\n",
       "    <tr>\n",
       "      <th>4</th>\n",
       "      <td>5</td>\n",
       "      <td>To Theo van Gogh. The Hague, Monday, 17 March ...</td>\n",
       "      <td>The Hague, 17 March 1873 My dear Theo, It’s ti...</td>\n",
       "      <td>False</td>\n",
       "    </tr>\n",
       "  </tbody>\n",
       "</table>\n",
       "</div>"
      ],
      "text/plain": [
       "   id                                             header  \\\n",
       "0   1  To Theo van Gogh. The Hague, Sunday, 29 Septem...   \n",
       "1   2  To Theo van Gogh. The Hague, Friday, 13 Decemb...   \n",
       "2   3     To Theo van Gogh. The Hague, mid-January 1873.   \n",
       "3   4  To Theo van Gogh. The Hague, Tuesday, 28 Janua...   \n",
       "4   5  To Theo van Gogh. The Hague, Monday, 17 March ...   \n",
       "\n",
       "                                             content  sketch  \n",
       "0  The Hague, 29 September 1872. My dear Theo, Th...   False  \n",
       "1  The Hague, 13 December 1872. My dear Theo, Tha...   False  \n",
       "2  The Hague, January 1873 My dear Theo, I heard ...   False  \n",
       "3  The Hague, 28 Jan. 1873 My dear Theo, It’s goo...   False  \n",
       "4  The Hague, 17 March 1873 My dear Theo, It’s ti...   False  "
      ]
     },
     "execution_count": 17,
     "metadata": {},
     "output_type": "execute_result"
    }
   ],
   "source": [
    "letter_raw.head()"
   ]
  },
  {
   "cell_type": "code",
   "execution_count": 18,
   "id": "a60c2665",
   "metadata": {},
   "outputs": [
    {
     "data": {
      "text/plain": [
       "False    766\n",
       "True     136\n",
       "Name: sketch, dtype: int64"
      ]
     },
     "execution_count": 18,
     "metadata": {},
     "output_type": "execute_result"
    }
   ],
   "source": [
    "letter_raw['sketch'].value_counts()"
   ]
  },
  {
   "cell_type": "markdown",
   "id": "586b212f",
   "metadata": {},
   "source": [
    "## Collect info from letter_raw"
   ]
  },
  {
   "cell_type": "markdown",
   "id": "68d91dea",
   "metadata": {},
   "source": [
    "Ectract from, to, place, date from header info."
   ]
  },
  {
   "cell_type": "code",
   "execution_count": 19,
   "id": "c4822aa3",
   "metadata": {},
   "outputs": [],
   "source": [
    "letter_from = []\n",
    "letter_to = []\n",
    "place = []\n",
    "date = []\n",
    "\n",
    "for index, row in letter_raw.iterrows():\n",
    "    from_to = row['header'].split('. ')[0]\n",
    "    place_time = row['header'].split('. ')[-1]\n",
    "    place.append(place_time.split(', ')[0])\n",
    "    date.append(place_time.split(', ')[-1])# string need to convert to time format\n",
    "    \n",
    "    if(from_to.startswith('To')):\n",
    "        letter_to.append(from_to.split('To ')[-1])\n",
    "        letter_from.append('Vincent van Gogh')\n",
    "    else:\n",
    "        letter_to.append(from_to.split(' to ')[-1])\n",
    "        letter_from.append(from_to.split(' to ')[0])"
   ]
  },
  {
   "cell_type": "code",
   "execution_count": 20,
   "id": "16449cdf",
   "metadata": {},
   "outputs": [],
   "source": [
    "letter_raw['from'] = letter_from\n",
    "letter_raw['to'] = letter_to\n",
    "letter_raw['place'] = place\n",
    "letter_raw['date'] = date"
   ]
  },
  {
   "cell_type": "code",
   "execution_count": 21,
   "id": "83a9313b",
   "metadata": {},
   "outputs": [],
   "source": [
    "letter_raw.to_csv('letter_raw.csv',index=False)"
   ]
  },
  {
   "cell_type": "markdown",
   "id": "adac2c6e",
   "metadata": {},
   "source": [
    "# For paintings"
   ]
  },
  {
   "cell_type": "code",
   "execution_count": 15,
   "id": "f4a32668",
   "metadata": {},
   "outputs": [],
   "source": [
    "# get links to all of his artwork from wikiart\n",
    "urls = []\n",
    "\n",
    "artwork_url = 'https://www.wikiart.org/en/vincent-van-gogh/all-works/text-list'\n",
    "response = requests.get(artwork_url)\n",
    "soup = BeautifulSoup(response.text, 'html.parser')\n",
    "    \n",
    "\n",
    "for li in soup.find_all('li', {'class':'painting-list-text-row'}):\n",
    "    url = li.find('a')['href']\n",
    "    urls.append('https://www.wikiart.org/'+url)"
   ]
  },
  {
   "cell_type": "code",
   "execution_count": 17,
   "id": "941886e5",
   "metadata": {},
   "outputs": [
    {
     "data": {
      "text/plain": [
       "'https://www.wikiart.org//en/vincent-van-gogh/young-woman-sewing-1881'"
      ]
     },
     "execution_count": 17,
     "metadata": {},
     "output_type": "execute_result"
    }
   ],
   "source": [
    "urls[100]"
   ]
  },
  {
   "cell_type": "code",
   "execution_count": 25,
   "id": "ccb116a6",
   "metadata": {},
   "outputs": [],
   "source": [
    "# get labels and painting from each url, consider only oil paintings\n",
    "names = []\n",
    "dates = [] # may contain year and location\n",
    "styles = []\n",
    "genres = []\n",
    "#medias = []\n",
    "painting_url = []\n",
    "\n",
    "for url in urls:\n",
    "    response = requests.get(url)\n",
    "    soup = BeautifulSoup(response.text, 'html.parser')\n",
    "    \n",
    "    # check if media contain oil/canvas\n",
    "    if(not soup.find('s', text = 'Media:')):\n",
    "        continue\n",
    "        \n",
    "    main_content = soup.find('div', {'class':'wiki-layout-artist-info wiki-layout-artwork-info'})\n",
    "    media_c = main_content.find('s', text = 'Media:').parent.text\n",
    "    if('oil' in media_c or 'canvas' in media_c):\n",
    "        # get img url\n",
    "        aside = main_content.find('aside')\n",
    "        painting_url.append(aside.find('img')['src'].split('!')[0])\n",
    "        \n",
    "        # get artical\n",
    "        artical = main_content.find('article')\n",
    "        names.append(artical.find('h3').text)\n",
    "        \n",
    "        for li in artical.find_all('li'):\n",
    "            if(li.find('s')):\n",
    "                if('Date:' in li.find('s').text):\n",
    "                    dates.append(li.find('span').text)\n",
    "                if('Style:' in li.find('s').text):\n",
    "                    styles.append(li.find('span').text)\n",
    "                if('Genre:' in li.find('s').text):\n",
    "                    genres.append(li.find('span').text)"
   ]
  },
  {
   "cell_type": "code",
   "execution_count": 38,
   "id": "3db8e5dc",
   "metadata": {},
   "outputs": [],
   "source": [
    "# extract year and place from header\n",
    "places = []\n",
    "years = []\n",
    "for date in dates:\n",
    "    place = None\n",
    "    if(len(date.split('; '))>1):\n",
    "        place = date.split('; ')[-1]\n",
    "    year = date.split('; ')[0].split('.')[-1]\n",
    "    places.append(place)\n",
    "    years.append(year)"
   ]
  },
  {
   "cell_type": "code",
   "execution_count": 40,
   "id": "a44f04f2",
   "metadata": {},
   "outputs": [],
   "source": [
    "painting_d = {'name': names, 'year': years, 'place':places, 'style':styles, 'genre':genres, 'painting_url':painting_url}\n",
    "paintings = pd.DataFrame(data=painting_d)\n",
    "paintings.to_csv('paintings.csv')"
   ]
  },
  {
   "cell_type": "code",
   "execution_count": 41,
   "id": "49bab319",
   "metadata": {},
   "outputs": [
    {
     "data": {
      "text/html": [
       "<div>\n",
       "<style scoped>\n",
       "    .dataframe tbody tr th:only-of-type {\n",
       "        vertical-align: middle;\n",
       "    }\n",
       "\n",
       "    .dataframe tbody tr th {\n",
       "        vertical-align: top;\n",
       "    }\n",
       "\n",
       "    .dataframe thead th {\n",
       "        text-align: right;\n",
       "    }\n",
       "</style>\n",
       "<table border=\"1\" class=\"dataframe\">\n",
       "  <thead>\n",
       "    <tr style=\"text-align: right;\">\n",
       "      <th></th>\n",
       "      <th>name</th>\n",
       "      <th>year</th>\n",
       "      <th>place</th>\n",
       "      <th>style</th>\n",
       "      <th>genre</th>\n",
       "      <th>painting_url</th>\n",
       "    </tr>\n",
       "  </thead>\n",
       "  <tbody>\n",
       "    <tr>\n",
       "      <th>0</th>\n",
       "      <td>Still Life with Beer Mug and Fruit</td>\n",
       "      <td>1881</td>\n",
       "      <td>Netherlands</td>\n",
       "      <td>\\nRealism\\n</td>\n",
       "      <td>\\nstill life\\n</td>\n",
       "      <td>https://uploads0.wikiart.org/images/vincent-va...</td>\n",
       "    </tr>\n",
       "    <tr>\n",
       "      <th>1</th>\n",
       "      <td>Still Life with Cabbage and Clogs</td>\n",
       "      <td>1881</td>\n",
       "      <td>Haag / Den Haag / La Haye / The Hague, Netherl...</td>\n",
       "      <td>\\nRealism\\n</td>\n",
       "      <td>\\nstill life\\n</td>\n",
       "      <td>https://uploads8.wikiart.org/images/vincent-va...</td>\n",
       "    </tr>\n",
       "    <tr>\n",
       "      <th>2</th>\n",
       "      <td>Windmils at Dordrecht</td>\n",
       "      <td>1881</td>\n",
       "      <td>Netherlands</td>\n",
       "      <td>\\nRealism\\n</td>\n",
       "      <td>\\nlandscape\\n</td>\n",
       "      <td>https://uploads5.wikiart.org/images/vincent-va...</td>\n",
       "    </tr>\n",
       "    <tr>\n",
       "      <th>3</th>\n",
       "      <td>Beach at Scheveningen in Calm Weather</td>\n",
       "      <td>1882</td>\n",
       "      <td>Haag / Den Haag / La Haye / The Hague, Netherl...</td>\n",
       "      <td>\\nRealism\\n</td>\n",
       "      <td>\\nlandscape\\n</td>\n",
       "      <td>https://uploads6.wikiart.org/images/vincent-va...</td>\n",
       "    </tr>\n",
       "    <tr>\n",
       "      <th>4</th>\n",
       "      <td>Cluster of Old Houses with the New Church in T...</td>\n",
       "      <td>1882</td>\n",
       "      <td>Haag / Den Haag / La Haye / The Hague, Netherl...</td>\n",
       "      <td>\\nRealism\\n</td>\n",
       "      <td>\\ncityscape\\n</td>\n",
       "      <td>https://uploads5.wikiart.org/images/vincent-va...</td>\n",
       "    </tr>\n",
       "  </tbody>\n",
       "</table>\n",
       "</div>"
      ],
      "text/plain": [
       "                                                name  year  \\\n",
       "0                 Still Life with Beer Mug and Fruit  1881   \n",
       "1                  Still Life with Cabbage and Clogs  1881   \n",
       "2                              Windmils at Dordrecht  1881   \n",
       "3              Beach at Scheveningen in Calm Weather  1882   \n",
       "4  Cluster of Old Houses with the New Church in T...  1882   \n",
       "\n",
       "                                               place        style  \\\n",
       "0                                        Netherlands  \\nRealism\\n   \n",
       "1  Haag / Den Haag / La Haye / The Hague, Netherl...  \\nRealism\\n   \n",
       "2                                        Netherlands  \\nRealism\\n   \n",
       "3  Haag / Den Haag / La Haye / The Hague, Netherl...  \\nRealism\\n   \n",
       "4  Haag / Den Haag / La Haye / The Hague, Netherl...  \\nRealism\\n   \n",
       "\n",
       "            genre                                       painting_url  \n",
       "0  \\nstill life\\n  https://uploads0.wikiart.org/images/vincent-va...  \n",
       "1  \\nstill life\\n  https://uploads8.wikiart.org/images/vincent-va...  \n",
       "2   \\nlandscape\\n  https://uploads5.wikiart.org/images/vincent-va...  \n",
       "3   \\nlandscape\\n  https://uploads6.wikiart.org/images/vincent-va...  \n",
       "4   \\ncityscape\\n  https://uploads5.wikiart.org/images/vincent-va...  "
      ]
     },
     "execution_count": 41,
     "metadata": {},
     "output_type": "execute_result"
    }
   ],
   "source": [
    "paintings.head()"
   ]
  },
  {
   "cell_type": "code",
   "execution_count": 42,
   "id": "d6ec3f7f",
   "metadata": {},
   "outputs": [
    {
     "data": {
      "text/plain": [
       "'https://uploads0.wikiart.org/images/vincent-van-gogh/still-life-with-beer-mug-and-fruit-1881.jpg'"
      ]
     },
     "execution_count": 42,
     "metadata": {},
     "output_type": "execute_result"
    }
   ],
   "source": [
    "paintings['painting_url'][0]"
   ]
  },
  {
   "cell_type": "code",
   "execution_count": 47,
   "id": "a36bd46d",
   "metadata": {},
   "outputs": [],
   "source": [
    "# download images\n",
    "for index, row in paintings.iterrows():\n",
    "    filename = row['year']+'_'+row['painting_url'].split(\"/\")[-1] #####\n",
    "\n",
    "    response = requests.get(row['painting_url'], stream = True)\n",
    "\n",
    "    # check if the image was retrieved successfully\n",
    "    if response.status_code == 200:\n",
    "        # Set decode_content value to True, otherwise the downloaded image file's size will be zero.\n",
    "        response.raw.decode_content = True    \n",
    "        \n",
    "        with open(filename,'wb') as f:\n",
    "            shutil.copyfileobj(response.raw, f)\n",
    "            \n",
    "    else:\n",
    "        print(filename)"
   ]
  },
  {
   "cell_type": "code",
   "execution_count": null,
   "id": "0f028f08",
   "metadata": {},
   "outputs": [],
   "source": []
  }
 ],
 "metadata": {
  "kernelspec": {
   "display_name": "Python 3 (ipykernel)",
   "language": "python",
   "name": "python3"
  },
  "language_info": {
   "codemirror_mode": {
    "name": "ipython",
    "version": 3
   },
   "file_extension": ".py",
   "mimetype": "text/x-python",
   "name": "python",
   "nbconvert_exporter": "python",
   "pygments_lexer": "ipython3",
   "version": "3.9.7"
  }
 },
 "nbformat": 4,
 "nbformat_minor": 5
}
